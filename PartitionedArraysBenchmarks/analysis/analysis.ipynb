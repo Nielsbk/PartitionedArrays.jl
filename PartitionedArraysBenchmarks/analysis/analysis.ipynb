{
 "cells": [
  {
   "cell_type": "code",
   "execution_count": null,
   "id": "3e9b8821-520b-42f8-8d3d-1ec45f15b51b",
   "metadata": {},
   "outputs": [],
   "source": [
    "] add DataFrames"
   ]
  },
  {
   "cell_type": "code",
   "execution_count": 1,
   "id": "dd06e082",
   "metadata": {},
   "outputs": [],
   "source": [
    "using DrWatson\n",
    "using Plots\n",
    "using DataFrames\n",
    "import PartitionedArraysBenchmarks as pb"
   ]
  },
  {
   "cell_type": "code",
   "execution_count": 2,
   "id": "642ec552",
   "metadata": {},
   "outputs": [
    {
     "data": {
      "text/plain": [
       "run_experiment (generic function with 1 method)"
      ]
     },
     "execution_count": 2,
     "metadata": {},
     "output_type": "execute_result"
    }
   ],
   "source": [
    "path = mkpath(\"results\")\n",
    "cmd = :sbatch\n",
    "function reduce_timing(ts)\n",
    "    nworkers = length(ts)\n",
    "    nruns = length(first(ts))\n",
    "    # Discard first run\n",
    "    t = maximum(iw->minimum(ir->ts[iw][ir],2:nruns),1:nworkers)\n",
    "    t = minimum(ir->maximum(iw->ts[iw][ir],1:nworkers),2:nruns)\n",
    "    #t = sum(iw->sum(ir->ts[iw][ir],2:nruns),1:nworkers)\n",
    "    t\n",
    "end\n",
    "function max_worker_time(ts)\n",
    "    nworkers = length(ts)\n",
    "    nruns = length(first(ts))\n",
    "    t = minimum(ir->maximum(iw->ts[iw][ir],1:nworkers),2:nruns)\n",
    "    t\n",
    "end\n",
    "function min_worker_time(ts)\n",
    "    nworkers = length(ts)\n",
    "    nruns = length(first(ts))\n",
    "    t = minimum(ir->minimum(iw->ts[iw][ir],1:nworkers),2:nruns)\n",
    "    t\n",
    "end\n",
    "function average(f,x)\n",
    "    sum(f,x)/length(x)\n",
    "end\n",
    "function average_worker_time(ts)\n",
    "    nworkers = length(ts)\n",
    "    nruns = length(first(ts))\n",
    "    t = minimum(ir->average(iw->ts[iw][ir],1:nworkers),2:nruns)\n",
    "    t\n",
    "end\n",
    "function total_worker_time(ts)\n",
    "    nworkers = length(ts)\n",
    "    nruns = length(first(ts))\n",
    "    t = minimum(ir->sum(iw->ts[iw][ir],1:nworkers),2:nruns)\n",
    "    t\n",
    "end\n",
    "filename = params -> joinpath(path,pb.jobname(params))\n",
    "function parts_per_dir_array(P,D,m=prod(P))\n",
    "    cis = CartesianIndices(P)\n",
    "    a = filter(cis) do ci\n",
    "        t = Tuple(ci)\n",
    "        issorted(t) && maximum(t)-minimum(t)<=1 && prod(t) <= m\n",
    "    end\n",
    "    map(a) do a\n",
    "        ntuple(D) do d\n",
    "            if d > length(P)\n",
    "                return 1\n",
    "            end\n",
    "            Int(a[d])\n",
    "        end\n",
    "    end\n",
    "end\n",
    "function optimal(x,y)\n",
    "    x1 = x[1]\n",
    "    y1 = y[1]\n",
    "    C = y1/x1\n",
    "    K = y1 - C / x1\n",
    "    C ./ x .+ K\n",
    "end\n",
    "template = raw\"\"\"\n",
    "#!/bin/bash\n",
    "#SBATCH --time=00:45:00\n",
    "#SBATCH --nodes={{{nodes}}}\n",
    "#SBATCH --ntasks-per-node=24\n",
    "#SBATCH --output={{{__JOBNAME__}}}.o\n",
    "#SBATCH --error={{{__JOBNAME__}}}.e\n",
    "\n",
    "export OMP_NUM_THREADS=1\n",
    "export NUM_THREADS=1\n",
    "mpiexec -np {{{np}}} --map-by node:span --rank-by core julia --project={{{__PROJECT__}}} -O3 --check-bounds=no -e '\n",
    "   import PartitionedArraysBenchmarks as pb\n",
    "   import PartitionedArrays as pa\n",
    "   params = {{{__PARAMS__}}}\n",
    "   jobname = \"{{{__JOBNAME__}}}\"\n",
    "   pa.with_mpi() do distribute\n",
    "       pb.experiment(pb.{{{benchmark}}},jobname,distribute,params)\n",
    "   end\n",
    "'\n",
    "\"\"\"\n",
    "function run_experiment(params;launch=true,force=false)\n",
    "    if !launch\n",
    "        fn = filename(params)\n",
    "        if force || ! isfile(fn*\".sh\")\n",
    "        @info \"Would run $(fn)\"\n",
    "        end\n",
    "        return\n",
    "    end\n",
    "    produce_or_load(params;filename,force,tag=false) do params\n",
    "        pb.runjob(cmd,template,params;filename)\n",
    "        Dict{String,Any}()\n",
    "    end\n",
    "end"
   ]
  },
  {
   "cell_type": "code",
   "execution_count": 3,
   "id": "0ee54408-8e48-4598-9f0f-e0d12ed62da0",
   "metadata": {},
   "outputs": [
    {
     "data": {
      "text/plain": [
       "6-element Vector{Tuple{Int64, Int64, Int64}}:\n",
       " (1, 1, 1)\n",
       " (1, 1, 2)\n",
       " (1, 2, 2)\n",
       " (2, 2, 2)\n",
       " (2, 2, 3)\n",
       " (2, 3, 3)"
      ]
     },
     "execution_count": 3,
     "metadata": {},
     "output_type": "execute_result"
    }
   ],
   "source": [
    "cores_per_node = 24\n",
    "cores_per_dir_3d = parts_per_dir_array((100,100,100),3,cores_per_node)\n",
    "cores_per_dir_2d = parts_per_dir_array((100,100),3,cores_per_node)\n",
    "cores_per_dir_1d = parts_per_dir_array((100,),3,cores_per_node)\n",
    "nodes_in_cluster = 18\n",
    "nodes_per_dir_3d = parts_per_dir_array((100,100,100),3,nodes_in_cluster)\n",
    "nodes_per_dir_2d = parts_per_dir_array((100,100),3,nodes_in_cluster)\n",
    "nodes_per_dir_1d = parts_per_dir_array((100,),3,nodes_in_cluster);\n",
    "nodes_per_dir_3d"
   ]
  },
  {
   "cell_type": "code",
   "execution_count": 6,
   "id": "0227f2da-8c36-46a6-aa2a-f2e5ca46e750",
   "metadata": {},
   "outputs": [
    {
     "data": {
      "text/plain": [
       "6-element Vector{Tuple{Int64, Int64, Int64}}:\n",
       " (1, 1, 1)\n",
       " (1, 1, 2)\n",
       " (1, 2, 2)\n",
       " (2, 2, 2)\n",
       " (2, 2, 3)\n",
       " (2, 3, 3)"
      ]
     },
     "execution_count": 6,
     "metadata": {},
     "output_type": "execute_result"
    }
   ],
   "source": [
    "cores_per_dir_3d"
   ]
  },
  {
   "cell_type": "code",
   "execution_count": 7,
   "id": "c1ab88bd-b861-482f-bcc7-d24536fbf5cc",
   "metadata": {},
   "outputs": [
    {
     "data": {
      "text/plain": [
       "324"
      ]
     },
     "execution_count": 7,
     "metadata": {},
     "output_type": "execute_result"
    }
   ],
   "source": [
    "prod((4,9,9))"
   ]
  },
  {
   "cell_type": "markdown",
   "id": "e5c7c44e-7bcf-4eca-a9ad-50ddf258dc48",
   "metadata": {},
   "source": [
    "## SpMV 2"
   ]
  },
  {
   "cell_type": "code",
   "execution_count": 5,
   "id": "30421316-b4d0-42e1-a8ae-c6cb6b41887e",
   "metadata": {},
   "outputs": [
    {
     "data": {
      "text/plain": [
       "36-element Vector{Dict{Symbol, Any}}:\n",
       " Dict(:np => 1, :benchmark => :benchmark_spmv_2, :cores_per_dir => (1, 1, 1), :cells_per_dir => (25, 25, 25), :nodes => 1, :parts_per_dir => (1, 1, 1), :nruns => 30, :sample => 1, :nodes_per_dir => (1, 1, 1))\n",
       " Dict(:np => 2, :benchmark => :benchmark_spmv_2, :cores_per_dir => (1, 1, 2), :cells_per_dir => (25, 25, 25), :nodes => 1, :parts_per_dir => (1, 1, 2), :nruns => 30, :sample => 1, :nodes_per_dir => (1, 1, 1))\n",
       " Dict(:np => 4, :benchmark => :benchmark_spmv_2, :cores_per_dir => (1, 2, 2), :cells_per_dir => (25, 25, 25), :nodes => 1, :parts_per_dir => (1, 2, 2), :nruns => 30, :sample => 1, :nodes_per_dir => (1, 1, 1))\n",
       " Dict(:np => 8, :benchmark => :benchmark_spmv_2, :cores_per_dir => (2, 2, 2), :cells_per_dir => (25, 25, 25), :nodes => 1, :parts_per_dir => (2, 2, 2), :nruns => 30, :sample => 1, :nodes_per_dir => (1, 1, 1))\n",
       " Dict(:np => 12, :benchmark => :benchmark_spmv_2, :cores_per_dir => (2, 2, 3), :cells_per_dir => (25, 25, 25), :nodes => 1, :parts_per_dir => (2, 2, 3), :nruns => 30, :sample => 1, :nodes_per_dir => (1, 1, 1))\n",
       " Dict(:np => 18, :benchmark => :benchmark_spmv_2, :cores_per_dir => (2, 3, 3), :cells_per_dir => (25, 25, 25), :nodes => 1, :parts_per_dir => (2, 3, 3), :nruns => 30, :sample => 1, :nodes_per_dir => (1, 1, 1))\n",
       " Dict(:np => 2, :benchmark => :benchmark_spmv_2, :cores_per_dir => (1, 1, 1), :cells_per_dir => (25, 25, 25), :nodes => 2, :parts_per_dir => (1, 1, 2), :nruns => 30, :sample => 1, :nodes_per_dir => (1, 1, 2))\n",
       " Dict(:np => 4, :benchmark => :benchmark_spmv_2, :cores_per_dir => (1, 1, 2), :cells_per_dir => (25, 25, 25), :nodes => 2, :parts_per_dir => (1, 1, 4), :nruns => 30, :sample => 1, :nodes_per_dir => (1, 1, 2))\n",
       " Dict(:np => 8, :benchmark => :benchmark_spmv_2, :cores_per_dir => (1, 2, 2), :cells_per_dir => (25, 25, 25), :nodes => 2, :parts_per_dir => (1, 2, 4), :nruns => 30, :sample => 1, :nodes_per_dir => (1, 1, 2))\n",
       " Dict(:np => 16, :benchmark => :benchmark_spmv_2, :cores_per_dir => (2, 2, 2), :cells_per_dir => (25, 25, 25), :nodes => 2, :parts_per_dir => (2, 2, 4), :nruns => 30, :sample => 1, :nodes_per_dir => (1, 1, 2))\n",
       " Dict(:np => 24, :benchmark => :benchmark_spmv_2, :cores_per_dir => (2, 2, 3), :cells_per_dir => (25, 25, 25), :nodes => 2, :parts_per_dir => (2, 2, 6), :nruns => 30, :sample => 1, :nodes_per_dir => (1, 1, 2))\n",
       " Dict(:np => 36, :benchmark => :benchmark_spmv_2, :cores_per_dir => (2, 3, 3), :cells_per_dir => (25, 25, 25), :nodes => 2, :parts_per_dir => (2, 3, 6), :nruns => 30, :sample => 1, :nodes_per_dir => (1, 1, 2))\n",
       " Dict(:np => 4, :benchmark => :benchmark_spmv_2, :cores_per_dir => (1, 1, 1), :cells_per_dir => (25, 25, 25), :nodes => 4, :parts_per_dir => (1, 2, 2), :nruns => 30, :sample => 1, :nodes_per_dir => (1, 2, 2))\n",
       " ⋮\n",
       " Dict(:np => 12, :benchmark => :benchmark_spmv_2, :cores_per_dir => (1, 1, 1), :cells_per_dir => (25, 25, 25), :nodes => 12, :parts_per_dir => (2, 2, 3), :nruns => 30, :sample => 1, :nodes_per_dir => (2, 2, 3))\n",
       " Dict(:np => 24, :benchmark => :benchmark_spmv_2, :cores_per_dir => (1, 1, 2), :cells_per_dir => (25, 25, 25), :nodes => 12, :parts_per_dir => (2, 2, 6), :nruns => 30, :sample => 1, :nodes_per_dir => (2, 2, 3))\n",
       " Dict(:np => 48, :benchmark => :benchmark_spmv_2, :cores_per_dir => (1, 2, 2), :cells_per_dir => (25, 25, 25), :nodes => 12, :parts_per_dir => (2, 4, 6), :nruns => 30, :sample => 1, :nodes_per_dir => (2, 2, 3))\n",
       " Dict(:np => 96, :benchmark => :benchmark_spmv_2, :cores_per_dir => (2, 2, 2), :cells_per_dir => (25, 25, 25), :nodes => 12, :parts_per_dir => (4, 4, 6), :nruns => 30, :sample => 1, :nodes_per_dir => (2, 2, 3))\n",
       " Dict(:np => 144, :benchmark => :benchmark_spmv_2, :cores_per_dir => (2, 2, 3), :cells_per_dir => (25, 25, 25), :nodes => 12, :parts_per_dir => (4, 4, 9), :nruns => 30, :sample => 1, :nodes_per_dir => (2, 2, 3))\n",
       " Dict(:np => 216, :benchmark => :benchmark_spmv_2, :cores_per_dir => (2, 3, 3), :cells_per_dir => (25, 25, 25), :nodes => 12, :parts_per_dir => (4, 6, 9), :nruns => 30, :sample => 1, :nodes_per_dir => (2, 2, 3))\n",
       " Dict(:np => 18, :benchmark => :benchmark_spmv_2, :cores_per_dir => (1, 1, 1), :cells_per_dir => (25, 25, 25), :nodes => 18, :parts_per_dir => (2, 3, 3), :nruns => 30, :sample => 1, :nodes_per_dir => (2, 3, 3))\n",
       " Dict(:np => 36, :benchmark => :benchmark_spmv_2, :cores_per_dir => (1, 1, 2), :cells_per_dir => (25, 25, 25), :nodes => 18, :parts_per_dir => (2, 3, 6), :nruns => 30, :sample => 1, :nodes_per_dir => (2, 3, 3))\n",
       " Dict(:np => 72, :benchmark => :benchmark_spmv_2, :cores_per_dir => (1, 2, 2), :cells_per_dir => (25, 25, 25), :nodes => 18, :parts_per_dir => (2, 6, 6), :nruns => 30, :sample => 1, :nodes_per_dir => (2, 3, 3))\n",
       " Dict(:np => 144, :benchmark => :benchmark_spmv_2, :cores_per_dir => (2, 2, 2), :cells_per_dir => (25, 25, 25), :nodes => 18, :parts_per_dir => (4, 6, 6), :nruns => 30, :sample => 1, :nodes_per_dir => (2, 3, 3))\n",
       " Dict(:np => 216, :benchmark => :benchmark_spmv_2, :cores_per_dir => (2, 2, 3), :cells_per_dir => (25, 25, 25), :nodes => 18, :parts_per_dir => (4, 6, 9), :nruns => 30, :sample => 1, :nodes_per_dir => (2, 3, 3))\n",
       " Dict(:np => 324, :benchmark => :benchmark_spmv_2, :cores_per_dir => (2, 3, 3), :cells_per_dir => (25, 25, 25), :nodes => 18, :parts_per_dir => (4, 9, 9), :nruns => 30, :sample => 1, :nodes_per_dir => (2, 3, 3))"
      ]
     },
     "execution_count": 5,
     "metadata": {},
     "output_type": "execute_result"
    }
   ],
   "source": [
    "param_space = Dict(\n",
    "    :nodes_per_dir => nodes_per_dir_3d[1:end],\n",
    "    :cores_per_dir => cores_per_dir_3d[1:end],\n",
    "    :cells_per_dir => [(25,25,25)],\n",
    "    :nruns => 30,\n",
    "    :sample => collect(1:1),\n",
    "    :benchmark => :benchmark_spmv_2,\n",
    ")\n",
    "params = dict_list(param_space)\n",
    "params = map(params) do dict\n",
    "    dict[:parts_per_dir] = dict[:nodes_per_dir].*dict[:cores_per_dir]\n",
    "    dict[:nodes] = prod(dict[:nodes_per_dir])\n",
    "    dict[:np] = prod(dict[:parts_per_dir])\n",
    "    dict\n",
    "end"
   ]
  },
  {
   "cell_type": "code",
   "execution_count": null,
   "id": "fa2c86c8-1268-44bc-881d-5eb451f8220b",
   "metadata": {},
   "outputs": [],
   "source": [
    "for params in params\n",
    "    run_experiment(params;launch=false)\n",
    "end"
   ]
  },
  {
   "cell_type": "code",
   "execution_count": null,
   "id": "13e558d3-1b43-4c29-8702-57c7fef0d1ee",
   "metadata": {},
   "outputs": [],
   "source": [
    "files = readdir(path)\n",
    "files = filter(f->occursin(\"_results\",f),files)\n",
    "dicts = map(f->load(joinpath(path,f)),files)\n",
    "dicts = filter(d->d[\"benchmark\"]=== :benchmark_spmv_2,dicts)\n",
    "df = DataFrame(dicts)\n",
    "for k in [:t_spmv,:t_exchange,:t_spmv_petsc,:t_spmv_petsc_first,:t_mul,:t_muladd,:t_wait_consistent,:t_wait_exchange,:t_snd,:t_rcv,:t_async,:t_consistent]\n",
    "    df[!,k] = average_worker_time.(df[!,k])\n",
    "end\n",
    "df[!,:t_local] = df[!,:t_mul] .+ df[!,:t_muladd]\n",
    "#df[!,:t_spmv_min] = min_worker_time.(df[!,:t_spmv])\n",
    "#df[!,:t_spmv_max] = max_worker_time.(df[!,:t_spmv])\n",
    "#df[!,:t_spmv_total] = total_worker_time.(df[!,:t_spmv])\n",
    "#df[!,:t_spmv_petsc_min] = min_worker_time.(df[!,:t_spmv_petsc])\n",
    "#df[!,:t_spmv_petsc_max] = max_worker_time.(df[!,:t_spmv_petsc])\n",
    "#df[!,:t_spmv_petsc_total] = total_worker_time.(df[!,:t_spmv_petsc])\n",
    "sort!(df,[:np,:sample])\n",
    "#df[:,[:cells_per_dir,:parts_per_dir,:t_spmv_min,:t_spmv_petsc_min,:rel_error]]\n",
    "df;"
   ]
  },
  {
   "cell_type": "code",
   "execution_count": null,
   "id": "c3173bfb-fe73-4ea7-9ab5-44de2a9174c4",
   "metadata": {},
   "outputs": [],
   "source": [
    "colors = [:blue,:red,:green]\n",
    "xkey = :np\n",
    "ykeys = [:t_spmv_petsc,:t_spmv]#,:t_local,:t_mul,:t_muladd,:t_wait_consistent,:t_snd,:t_async,:t_consistent,:t_exchange]\n",
    "vkey = :nodes\n",
    "nkey = :cells_per_dir\n",
    "nvals = [(25,25,25),(50,50,50),(100,100,100),(200,200,200)]\n",
    "fixed = Dict()#:cores_per_dir=>cores_per_dir_3d[1])\n",
    "plt = plot(size=(800,300),xlabel=xkey,ylabel=\"wall time\",xaxis=:log,yaxis=:log,legend=:outertopright)\n",
    "for nval in nvals\n",
    "    for ykey in ykeys\n",
    "        function take_row(row)\n",
    "            bool = row[nkey] == nval\n",
    "            for (key,val) in fixed\n",
    "                bool = bool && row[key] == val\n",
    "            end\n",
    "            bool\n",
    "        end\n",
    "        dh = filter(take_row,df)\n",
    "        sort!(dh,[vkey])\n",
    "        if length(eachrow(dh)) != 0\n",
    "           dg = groupby(dh,[xkey])\n",
    "           dh = combine(dg) do sdf\n",
    "              sdf[argmin(sdf[!,ykey]),:]\n",
    "           end\n",
    "        end\n",
    "        sort!(dh,[xkey,ykey])\n",
    "        x = dh[:,xkey]\n",
    "        y = dh[:,ykey]\n",
    "        y2 = prod.(dh[:,:cells_per_dir])./dh[:,:np]\n",
    "        plot!(x,y,label=\"$ykey $nval\", markers=:auto,color=colors[findfirst(i->i==ykey,ykeys)])\n",
    "    end\n",
    "end\n",
    "plt"
   ]
  },
  {
   "cell_type": "code",
   "execution_count": null,
   "id": "7ab7436d-dad6-4b83-bb8a-be6cd07d87f0",
   "metadata": {},
   "outputs": [],
   "source": [
    "colors = [:blue,:red,:green]\n",
    "xkey = :np\n",
    "ykeys = [:t_spmv_petsc,:t_spmv]#,:t_local]#,:t_mul,:t_muladd,:t_wait_consistent,:t_snd]\n",
    "vkey = :nodes\n",
    "nkey = :cells_per_dir\n",
    "nvals = [(200,200,200)]\n",
    "fixed = Dict()#:cores_per_dir=>cores_per_dir_3d[1])\n",
    "plt = plot(size=(800,300),xlabel=xkey,ylabel=\"time / petsc time\",xaxis=:log,yaxis=:none,legend=:outertopright,ylims=(0,Inf))\n",
    "ref_line = Ref{Any}()\n",
    "for nval in nvals\n",
    "    for ykey in ykeys\n",
    "        function take_row(row)\n",
    "            bool = row[nkey] == nval\n",
    "            for (key,val) in fixed\n",
    "                bool = bool && row[key] == val\n",
    "            end\n",
    "            bool\n",
    "        end\n",
    "        dh = filter(take_row,df)\n",
    "        sort!(dh,[vkey])\n",
    "        if length(eachrow(dh)) != 0\n",
    "           dg = groupby(dh,[xkey])\n",
    "           dh = combine(dg) do sdf\n",
    "              sdf[argmin(sdf[!,ykey]),:]\n",
    "           end\n",
    "        end\n",
    "        sort!(dh,[xkey,ykey])\n",
    "        x = dh[:,xkey]\n",
    "        y = dh[:,ykey]\n",
    "        if ykey == ykeys[1]\n",
    "            ref_line[] = y\n",
    "        end\n",
    "        y2 = y ./ ref_line[]\n",
    "        plot!(x,y2,label=\"$ykey $nval\", markers=:auto) #,color=colors[findfirst(i->i==ykey,ykeys)]\n",
    "    end\n",
    "end\n",
    "plt"
   ]
  },
  {
   "cell_type": "markdown",
   "id": "67937760",
   "metadata": {},
   "source": [
    "## Matrix assembly"
   ]
  },
  {
   "cell_type": "code",
   "execution_count": null,
   "id": "bea84dca",
   "metadata": {},
   "outputs": [],
   "source": [
    "methods_space = [\"psprse\",\"petsc_coo\"]#,\"petsc_setvalues\"]\n",
    "param_space = Dict(\n",
    "    :nodes_per_dir => nodes_per_dir_3d[1:end],\n",
    "    :cores_per_dir => cores_per_dir_3d[1:end],\n",
    "    :cells_per_dir => [(100,100,100)],\n",
    "    :nruns => 30,\n",
    "    :sample => collect(1:1),\n",
    "    :method => methods_space,\n",
    "    :benchmark => :benchmark_psparse,\n",
    ")\n",
    "params = dict_list(param_space)\n",
    "params = map(params) do dict\n",
    "    dict[:parts_per_dir] = dict[:nodes_per_dir].*dict[:cores_per_dir]\n",
    "    dict[:nodes] = prod(dict[:nodes_per_dir])\n",
    "    dict[:np] = prod(dict[:parts_per_dir])\n",
    "    dict\n",
    "end;\n",
    "for params in params\n",
    "    run_experiment(params;launch=true)\n",
    "end\n"
   ]
  },
  {
   "cell_type": "code",
   "execution_count": null,
   "id": "551ce8bc",
   "metadata": {},
   "outputs": [],
   "source": [
    "files = readdir(path)\n",
    "files = filter(f->occursin(\"_results\",f),files)\n",
    "dicts = map(f->load(joinpath(path,f)),files)\n",
    "dicts = filter(d->d[\"benchmark\"]=== :benchmark_psparse,dicts)\n",
    "df = DataFrame(dicts)\n",
    "for k in [:buildmat,:rebuildmat]\n",
    "    df[!,k] = average_worker_time.(df[!,k])\n",
    "end\n",
    "sort!(df,[:np,:sample])\n",
    "df;"
   ]
  },
  {
   "cell_type": "code",
   "execution_count": null,
   "id": "e0c10887",
   "metadata": {},
   "outputs": [],
   "source": [
    "colors = [:blue,:red,:green]\n",
    "plt = plot(size=(600,300),xlabel=\"P\",ylabel=\"Wall time [s]\",legend=:outertopright)\n",
    "for cells_per_dir in [(25,25,25),(50,50,50),(100,100,100),(200,200,200)]\n",
    "    methods = [\"psprse\",\"petsc_coo\"]#,\"petsc_setvalues\"]\n",
    "for method in methods\n",
    "    take_row(row) = row.method == method && row.cells_per_dir == cells_per_dir\n",
    "    df_filtered = filter(take_row,df)\n",
    "    sort!(df_filtered,[:np])\n",
    "    x = df_filtered[:,:np]\n",
    "    y = df_filtered[:,:rebuildmat]\n",
    "    plot!(x,y,label=method,markers=:auto,xaxis=:log,yaxis=:log,color=colors[findfirst(i->i==method,methods)])\n",
    "end\n",
    "end\n",
    "plt"
   ]
  },
  {
   "cell_type": "code",
   "execution_count": null,
   "id": "53a526b8-ac0d-4ae4-b438-cc8bf794b252",
   "metadata": {},
   "outputs": [],
   "source": [
    "methods_space = [\"Petsc\",\"PartitionedArrays\"]\n",
    "param_space = Dict(\n",
    "    :nodes_per_dir => nodes_per_dir_3d[1:end],\n",
    "    :cores_per_dir => cores_per_dir_3d[1:end],\n",
    "    :method => methods_space,\n",
    "    :cells_per_dir => [(100,100,100)],\n",
    "    :nruns => 30,\n",
    "    :sample => collect(1:1),\n",
    "    :benchmark => :benchmark_spmv,\n",
    ")\n",
    "params = dict_list(param_space)\n",
    "params = map(params) do dict\n",
    "    dict[:parts_per_dir] = dict[:nodes_per_dir].*dict[:cores_per_dir]\n",
    "    dict[:nodes] = prod(dict[:nodes_per_dir])\n",
    "    dict[:np] = prod(dict[:parts_per_dir])\n",
    "    dict\n",
    "end;\n",
    "for params in params\n",
    "    run_experiment(params;launch=false)\n",
    "end"
   ]
  },
  {
   "cell_type": "code",
   "execution_count": null,
   "id": "8fac95f8-cf56-46ca-b7e5-de9e4c53e01d",
   "metadata": {},
   "outputs": [],
   "source": [
    "files = readdir(path)\n",
    "files = filter(f->occursin(\"_results\",f),files)\n",
    "dicts = map(f->load(joinpath(path,f)),files)\n",
    "dicts = filter(d->d[\"benchmark\"]=== :benchmark_spmv,dicts)\n",
    "df = DataFrame(dicts)\n",
    "df[!,:spmv_min] = min_worker_time.(df[!,:spmv])\n",
    "df[!,:spmv_max] = max_worker_time.(df[!,:spmv])\n",
    "df[!,:spmv_total] = total_worker_time.(df[!,:spmv])\n",
    "sort!(df,[:method,:np,:sample])\n",
    "df;"
   ]
  },
  {
   "cell_type": "code",
   "execution_count": null,
   "id": "132fe2b8-c013-464d-8dc3-f3df46e3f484",
   "metadata": {},
   "outputs": [],
   "source": [
    "load_per_dir = map((a,b)->a./b,df[:,:cells_per_dir],df[:,:parts_per_dir])\n",
    "interface_size = 2 .* sum.(load_per_dir)\n",
    "data_exchange_per_node = interface_size .* df[!,:np] ./ df[!,:nodes]\n",
    "df[!,:data_exchange_per_node] = data_exchange_per_node\n",
    "nkey = :cores_per_dir\n",
    "nvals = cores_per_dir_3d\n",
    "xkey = :nodes\n",
    "ykey = :data_exchange_per_node\n",
    "plt = plot(size=(900,300),xlabel=xkey,ylabel=ykey)\n",
    "for nval in nvals\n",
    "        function take_row(row)\n",
    "            bool = row[nkey] == nval\n",
    "            bool\n",
    "        end\n",
    "        dh = filter(take_row,df)\n",
    "        sort!(dh,[xkey,ykey])\n",
    "        x = dh[:,xkey]\n",
    "        y = dh[:,ykey]\n",
    "        plot!(x,y,label=\"$nkey=$nval\", markers=:auto,xaxis=:log,yaxis=:log,legend=:outertopright)\n",
    "end\n",
    "plt"
   ]
  },
  {
   "cell_type": "code",
   "execution_count": null,
   "id": "f7613bfa-6417-483c-8403-37ba44684c18",
   "metadata": {},
   "outputs": [],
   "source": [
    "colors = [:blue,:red]\n",
    "xkey = :np\n",
    "ykey = :spmv_total\n",
    "vkey = :nodes\n",
    "mkey = :method\n",
    "mvals = [\"PartitionedArrays\",\"Petsc\"][1:end]\n",
    "nkey = :cores_per_dir\n",
    "nvals = cores_per_dir_3d\n",
    "fixed = Dict(:cells_per_dir=>(100,100,100))\n",
    "plt = plot(size=(900,300),xlabel=xkey,ylabel=ykey)\n",
    "for nval in nvals\n",
    "    for mval in mvals\n",
    "        function take_row(row)\n",
    "            bool = row[mkey] == mval && row[nkey] == nval\n",
    "            for (key,val) in fixed\n",
    "                bool = bool && row[key] == val\n",
    "            end\n",
    "            bool\n",
    "        end\n",
    "        dh = filter(take_row,df)\n",
    "        sort!(dh,[vkey])\n",
    "        if length(eachrow(dh)) != 0\n",
    "           dg = groupby(dh,[xkey])\n",
    "           dh = combine(dg) do sdf\n",
    "              sdf[argmin(sdf[!,ykey]),:]\n",
    "           end\n",
    "        end\n",
    "        sort!(dh,[xkey,ykey])\n",
    "        x = dh[:,xkey]\n",
    "        y = dh[:,ykey]\n",
    "        plot!(x,y,label=\"$mkey=$mval $nkey=$nval\",color=colors[findfirst(i->i==mval,mvals)], markers=:auto,xaxis=:log,ylimits=[0,Inf],legend=:outertopright)\n",
    "    end\n",
    "end\n",
    "plt"
   ]
  },
  {
   "cell_type": "code",
   "execution_count": null,
   "id": "41291c7d-9eb4-46e6-8991-7577b8221642",
   "metadata": {},
   "outputs": [],
   "source": [
    "colors = [:blue,:red]\n",
    "xkey = :np\n",
    "ykey = :spmv_max\n",
    "vkey = :nodes\n",
    "mkey = :method\n",
    "mvals = [\"PartitionedArrays\",\"Petsc\"]\n",
    "nkey = :cells_per_dir\n",
    "nvals = [(100,100,100)]#,(500,500,500)]\n",
    "fixed = Dict()\n",
    "plt = plot(size=(800,300),xlabel=xkey,ylabel=ykey,xaxis=:log,yaxis=:log,legend=:outertopright)\n",
    "for nval in nvals\n",
    "    for mval in mvals\n",
    "        function take_row(row)\n",
    "            bool = row[mkey] == mval && row[nkey] == nval\n",
    "            for (key,val) in fixed\n",
    "                bool = bool && row[key] == val\n",
    "            end\n",
    "            bool\n",
    "        end\n",
    "        dh = filter(take_row,df)\n",
    "        sort!(dh,[vkey])\n",
    "        if length(eachrow(dh)) != 0\n",
    "           dg = groupby(dh,[xkey])\n",
    "           dh = combine(dg) do sdf\n",
    "              sdf[argmin(sdf[!,ykey]),:]\n",
    "           end\n",
    "        end\n",
    "        sort!(dh,[xkey,ykey])\n",
    "        x = dh[:,xkey]\n",
    "        y = dh[:,ykey]\n",
    "        y2 = prod.(dh[:,:cells_per_dir])./dh[:,:np]\n",
    "        plot!(x,y,label=\"$mval $nval\",color=colors[findfirst(i->i==mval,mvals)], markers=:auto)\n",
    "    end\n",
    "end\n",
    "plt"
   ]
  },
  {
   "cell_type": "markdown",
   "id": "0c815faa",
   "metadata": {},
   "source": [
    "## SpMV"
   ]
  },
  {
   "cell_type": "code",
   "execution_count": null,
   "id": "7ec39d0c-2fe0-48cd-81a9-98cb680a2826",
   "metadata": {},
   "outputs": [],
   "source": [
    "methods_space = [\"Petsc\",\"PartitionedArrays\"]\n",
    "param_space = Dict(\n",
    "    :nodes_per_dir => nodes_per_dir_3d[1:1],\n",
    "    :cores_per_dir => cores_per_dir_3d[1:1],\n",
    "    :method => methods_space,\n",
    "    :cells_per_dir => [(100,100,100)],\n",
    "    :nruns => 10,\n",
    "    :benchmark => :benchmark_spmv,\n",
    ")\n",
    "params = dict_list(param_space)\n",
    "params = map(params) do dict\n",
    "    dict[:parts_per_dir] = dict[:nodes_per_dir].*dict[:cores_per_dir]\n",
    "    dict[:nodes] = prod(dict[:nodes_per_dir])\n",
    "    dict[:np] = prod(dict[:parts_per_dir])\n",
    "    dict\n",
    "end;\n",
    "for params in params\n",
    "    run_experiment(params;launch=false)\n",
    "end"
   ]
  },
  {
   "cell_type": "code",
   "execution_count": null,
   "id": "65dc7ce9-b483-44ad-8930-552e03812fbe",
   "metadata": {},
   "outputs": [],
   "source": [
    "files = readdir(path)\n",
    "files = filter(f->occursin(\"_results\",f),files)\n",
    "dicts = map(f->load(joinpath(path,f)),files)\n",
    "dicts = filter(d->d[\"benchmark\"]=== :benchmark_spmv,dicts)\n",
    "df = DataFrame(dicts)\n",
    "df[!,:spmv] = reduce_timing.(df[!,:spmv])\n",
    "sort!(df,[:method,:np])\n",
    "df;"
   ]
  },
  {
   "cell_type": "code",
   "execution_count": null,
   "id": "9fd2795a-5e15-4d52-92fe-cc13ca6150a5",
   "metadata": {},
   "outputs": [],
   "source": [
    "colors = [:blue,:red]\n",
    "xkey = :np\n",
    "ykey = :spmv\n",
    "vkey = :nodes\n",
    "mkey = :method\n",
    "mvals = [\"PartitionedArrays\",\"Petsc\"]\n",
    "nkey = :cores_per_dir\n",
    "nvals = cores_per_dir_3d\n",
    "fixed = Dict(:cells_per_dir=>(400,400,400))\n",
    "plt = plot(size=(600,300),xlabel=xkey,ylabel=ykey)\n",
    "for nval in nvals\n",
    "    for mval in mvals\n",
    "        function take_row(row)\n",
    "            bool = row[mkey] == mval && row[nkey] == nval\n",
    "            for (key,val) in fixed\n",
    "                bool = bool && row[key] == val\n",
    "            end\n",
    "            bool\n",
    "        end\n",
    "        df_filtered = filter(take_row,df)\n",
    "        sort!(df_filtered,[vkey])\n",
    "        x = df_filtered[:,xkey]\n",
    "        y = df_filtered[:,ykey]\n",
    "        plot!(x,y,label=\"$mval $nval\",color=colors[findfirst(i->i==mval,mvals)], markers=:auto,xaxis=:log,yaxis=:log,legend=:outertopright)\n",
    "    end\n",
    "end\n",
    "plt"
   ]
  },
  {
   "cell_type": "code",
   "execution_count": null,
   "id": "abfa1f75-6028-4ece-b6d9-e869078ef7ed",
   "metadata": {},
   "outputs": [],
   "source": [
    "xkey = :np\n",
    "ykey = :spmv\n",
    "vkey = :nodes\n",
    "mkey = :method\n",
    "mvals = [\"PartitionedArrays\",\"Petsc\"]\n",
    "nkey = :cores_per_dir\n",
    "nvals = cores_per_dir_3d\n",
    "fixed = Dict(:cells_per_dir=>(400,400,400))\n",
    "plt = plot(size=(600,350),xlabel=xkey,ylabel=\"$ykey ($(mvals[1])/$(mvals[2]))\")\n",
    "for nval in nvals    \n",
    "        function take_row(row)\n",
    "            bool = row[nkey] == nval\n",
    "            for (key,val) in fixed\n",
    "                bool = bool && row[key] == val\n",
    "            end\n",
    "            bool\n",
    "        end\n",
    "        df_filtered = filter(take_row,df)\n",
    "        dg = groupby(df_filtered,vkey)\n",
    "        dh = combine(dg) do sdf\n",
    "           i1 = findfirst(sdf[!,mkey] .== mvals[1] )\n",
    "           i2 = findfirst(sdf[!,mkey] .== mvals[2] )\n",
    "           yval = sdf[i1,ykey]/sdf[i2,ykey]\n",
    "           sdf[!,ykey] .= yval\n",
    "           sdf[1,[vkey,xkey,ykey]]\n",
    "        end\n",
    "        sort!(dh,[vkey])\n",
    "        x = dh[:,xkey]\n",
    "        y = dh[:,ykey]\n",
    "        plot!(x,y,label=\"$nkey = $nval\",color=:blue, markers=:auto,xaxis=:log,ylimits=[0,Inf],legend=:outertopright)\n",
    "end\n",
    "xlms = xlims(plt)\n",
    "plot!([xlms...],[1.,1.],label=\"tie\",color=:black,xlimits=xlms)\n",
    "plt"
   ]
  },
  {
   "cell_type": "code",
   "execution_count": null,
   "id": "2e3ea7c8-19e7-40f5-85f2-69c757b540a7",
   "metadata": {},
   "outputs": [],
   "source": [
    "cells_per_dir = (100,100,100)\n",
    "df = filter(row->row.cells_per_dir == cells_per_dir,df)"
   ]
  },
  {
   "cell_type": "markdown",
   "id": "09f6c60b-95eb-46e7-876e-361cd851724f",
   "metadata": {},
   "source": [
    "## SpMV old"
   ]
  },
  {
   "cell_type": "code",
   "execution_count": null,
   "id": "9a89d635-6498-4f54-a448-b6cdfa7ca821",
   "metadata": {},
   "outputs": [],
   "source": [
    "a = parts_per_dir_array((5,5,5),3,8)\n",
    "map(i-> i=> prod(i),a)"
   ]
  },
  {
   "cell_type": "code",
   "execution_count": null,
   "id": "d2a860dd-4c04-40a7-b4b9-5e1e2a9d2b98",
   "metadata": {},
   "outputs": [],
   "source": [
    "parts_per_dir_space = [(2,2,2)]\n",
    "methods_space = [\"Petsc\"]\n",
    "param_space = Dict(\n",
    "    :nodes => 2,\n",
    "    :np => Derived(:parts_per_dir,prod),\n",
    "    :method => methods_space,\n",
    "    :cells_per_dir => [(100,100,100)],\n",
    "    :parts_per_dir => parts_per_dir_space,\n",
    "    :nruns => 10,\n",
    "    :benchmark => :benchmark_spmv,\n",
    ")\n",
    "params = dict_list(param_space)\n",
    "for params in params\n",
    "    run_experiment(params;dryrun=false)\n",
    "end"
   ]
  },
  {
   "cell_type": "code",
   "execution_count": null,
   "id": "9530f82e-15b2-4946-8e5f-e58f8cb878a1",
   "metadata": {},
   "outputs": [],
   "source": [
    "#parts_per_dir_space = [(1,1,1)]#,(2,1,1),(3,1,1),(4,1,1),(5,1,1)]\n",
    "parts_per_dir_space = parts_per_dir_array((3,3,3),3)\n",
    "methods_space = [\"PartitionedArrays\",\"Petsc\"]\n",
    "param_space = Dict(\n",
    "    :nodes => 2,\n",
    "    :ntasks_per_node => Derived(:parts_per_dir,prod),\n",
    "    :np => Derived(:parts_per_dir,prod),\n",
    "    :method => methods_space,\n",
    "    :cells_per_dir => [(600,600,600)],\n",
    "    :parts_per_dir => parts_per_dir_space,\n",
    "    :nruns => 10,\n",
    "    :benchmark => :benchmark_spmv,\n",
    ")"
   ]
  },
  {
   "cell_type": "code",
   "execution_count": null,
   "id": "730f1577-8337-4c5a-8e5c-c52f3b1dfeff",
   "metadata": {},
   "outputs": [],
   "source": [
    "params = dict_list(param_space)\n",
    "for params in params\n",
    "    produce_or_load(params;filename,tag=false) do params\n",
    "        pb.runjob(cmd,params;filename)\n",
    "        Dict{String,Any}()\n",
    "    end\n",
    "end"
   ]
  },
  {
   "cell_type": "code",
   "execution_count": null,
   "id": "15175aac-75fa-409b-906f-6347ad0a2b86",
   "metadata": {},
   "outputs": [],
   "source": [
    "files = readdir(path)\n",
    "files = filter(f->occursin(\"_results\",f),files)\n",
    "dicts = map(f->load(joinpath(path,f)),files)\n",
    "dicts = filter(d->d[\"benchmark\"]=== :benchmark_spmv,dicts)\n",
    "df = DataFrame(dicts)\n",
    "df[!,:spmv] = reduce_timing.(df[!,:spmv])\n",
    "sort!(df,[:method,:np])\n",
    "cells_per_dir = (400,400,400)\n",
    "df = filter(row->row.cells_per_dir == cells_per_dir,df)"
   ]
  },
  {
   "cell_type": "code",
   "execution_count": null,
   "id": "1939b724-ca20-4fbc-8fe1-064ff80a3259",
   "metadata": {},
   "outputs": [],
   "source": [
    "plt = plot(size=(400,300),xlabel=\"P\",ylabel=\"Wall time [s]\")\n",
    "for method in [\"PartitionedArrays\",\"Petsc\"]\n",
    "    take_row(row) = row.method == method && row.cells_per_dir == cells_per_dir\n",
    "    df_filtered = filter(take_row,df)\n",
    "    sort!(df_filtered,[:np])\n",
    "    x = df_filtered[:,:np]\n",
    "    y = df_filtered[:,:spmv]\n",
    "    plot!(x,y,label=method,markers=:auto,xaxis=:log,yaxis=:log)\n",
    "    o = optimal(x,y)\n",
    "    plot!(x,o,markers=:none,label=:none,color=:black,xaxis=:log,yaxis=:log)\n",
    "end\n",
    "plt"
   ]
  },
  {
   "cell_type": "code",
   "execution_count": null,
   "id": "dc76d439-332d-49e0-91b2-772fe55b60ad",
   "metadata": {},
   "outputs": [],
   "source": []
  },
  {
   "cell_type": "code",
   "execution_count": null,
   "id": "ddad7f44",
   "metadata": {},
   "outputs": [],
   "source": [
    "; squeue"
   ]
  },
  {
   "cell_type": "code",
   "execution_count": null,
   "id": "a65033f3-691e-4c99-86d1-bb5288100924",
   "metadata": {},
   "outputs": [],
   "source": [
    "; ls results"
   ]
  },
  {
   "cell_type": "code",
   "execution_count": null,
   "id": "51bead76-0ffe-44f9-be44-d925a3ed2019",
   "metadata": {},
   "outputs": [],
   "source": [
    "; cat results/060a76c710844502.sh"
   ]
  },
  {
   "cell_type": "code",
   "execution_count": null,
   "id": "0917d194-ecea-411d-a6ea-94551835d7d8",
   "metadata": {},
   "outputs": [],
   "source": [
    "?groupby"
   ]
  },
  {
   "cell_type": "code",
   "execution_count": null,
   "id": "e93af5c0-6023-46ef-93e9-bf2b0e4d21ce",
   "metadata": {},
   "outputs": [],
   "source": [
    "df = DataFrame(a=repeat([1, 2, 3, 4], outer=[2]),\n",
    "                      b=repeat([2, 1], outer=[4]),\n",
    "                      c=1:8)"
   ]
  },
  {
   "cell_type": "code",
   "execution_count": null,
   "id": "06f5cf0b-e45b-4d69-a4fe-194eaa9ebb52",
   "metadata": {},
   "outputs": [],
   "source": [
    "gd = groupby(df, :a)"
   ]
  },
  {
   "cell_type": "code",
   "execution_count": null,
   "id": "95ff6a3a-ecd3-40f4-94b6-f8ccee118d45",
   "metadata": {},
   "outputs": [],
   "source": []
  }
 ],
 "metadata": {
  "kernelspec": {
   "display_name": "Julia 1.10.3",
   "language": "julia",
   "name": "julia-1.10"
  },
  "language_info": {
   "file_extension": ".jl",
   "mimetype": "application/julia",
   "name": "julia",
   "version": "1.10.3"
  }
 },
 "nbformat": 4,
 "nbformat_minor": 5
}
