{
 "cells": [
  {
   "cell_type": "code",
   "execution_count": null,
   "id": "dd06e082",
   "metadata": {},
   "outputs": [],
   "source": [
    "using DrWatson\n",
    "using Plots\n",
    "using DataFrames\n",
    "import PartitionedArraysBenchmarks as pb"
   ]
  },
  {
   "cell_type": "code",
   "execution_count": null,
   "id": "642ec552",
   "metadata": {},
   "outputs": [],
   "source": [
    "path = mkpath(\"results\")\n",
    "cmd = :bash\n",
    "function reduce_timing(ts)\n",
    "    nworkers = length(ts)\n",
    "    nruns = length(first(ts))\n",
    "    t = minimum(ir->maximum(iw->ts[iw][ir],1:nworkers),1:nruns)\n",
    "    t\n",
    "end\n",
    "filename = params -> joinpath(path,pb.jobname(params))\n",
    "function parts_per_dir_array(P,D)\n",
    "    cis = CartesianIndices(P)\n",
    "    a = filter(cis) do ci\n",
    "        t = Tuple(ci)\n",
    "        issorted(t) && maximum(t)-minimum(t)<=1\n",
    "    end\n",
    "    map(a) do a\n",
    "        ntuple(D) do d\n",
    "            if d > length(P)\n",
    "                return 1\n",
    "            end\n",
    "            Int(a[d])\n",
    "        end\n",
    "    end\n",
    "end"
   ]
  },
  {
   "cell_type": "markdown",
   "id": "0c815faa",
   "metadata": {},
   "source": [
    "## SpMV"
   ]
  },
  {
   "cell_type": "code",
   "execution_count": null,
   "id": "22fdcee3",
   "metadata": {},
   "outputs": [],
   "source": [
    "parts_per_dir_space = [(1,1,1),(2,1,1),(3,1,1),(4,1,1),(5,1,1)]\n",
    "parts_per_dir_space = parts_per_dir_array((2,2,2),3)\n",
    "methods_space = [\"PartitionedArrays\",\"Petsc\"]\n",
    "param_space = Dict(\n",
    "    :nodes => 1,\n",
    "    :ntasks_per_node => Derived(:parts_per_dir,prod),\n",
    "    :np => Derived(:parts_per_dir,prod),\n",
    "    :method => methods_space,\n",
    "    :cells_per_dir => [(100,100,100)],\n",
    "    :parts_per_dir => parts_per_dir_space,\n",
    "    :nruns => 10,\n",
    "    :benchmark => :benchmark_spmv,\n",
    ")\n",
    "params = dict_list(param_space)\n",
    "for params in params\n",
    "    produce_or_load(params;filename) do params\n",
    "        pb.runjob(cmd,params;filename)\n",
    "        Dict{String,Any}()\n",
    "    end\n",
    "end"
   ]
  },
  {
   "cell_type": "code",
   "execution_count": null,
   "id": "6a914567",
   "metadata": {},
   "outputs": [],
   "source": [
    "files = readdir(path)\n",
    "files = filter(f->occursin(\"_results\",f),files)\n",
    "dicts = map(f->load(joinpath(path,f)),files)\n",
    "dicts = filter(d->d[\"benchmark\"]=== :benchmark_spmv,dicts)\n",
    "df = DataFrame(dicts)\n",
    "df[!,:spmv] = reduce_timing.(df[!,:spmv])\n",
    "sort!(df,[:method,:np])\n",
    "df"
   ]
  },
  {
   "cell_type": "code",
   "execution_count": null,
   "id": "dd3f43e5",
   "metadata": {},
   "outputs": [],
   "source": [
    "cells_per_dir = (100,100,100)\n",
    "plt = plot(size=(400,300),xlabel=\"P\",ylabel=\"Wall time [s]\")\n",
    "for method in param_space[:method]\n",
    "    take_row(row) = row.method == method && row.cells_per_dir == cells_per_dir\n",
    "    df_filtered = filter(take_row,df)\n",
    "    sort!(df_filtered,[:np])\n",
    "    x = df_filtered[:,:np]\n",
    "    y = df_filtered[:,:spmv]\n",
    "    plot!(x,y,label=method,markers=:auto)\n",
    "end\n",
    "plt"
   ]
  },
  {
   "cell_type": "markdown",
   "id": "67937760",
   "metadata": {},
   "source": [
    "## Matrix assembly"
   ]
  },
  {
   "cell_type": "code",
   "execution_count": null,
   "id": "bea84dca",
   "metadata": {},
   "outputs": [],
   "source": [
    "parts_per_dir_space = [(1,1,1),(2,1,1),(3,1,1),(4,1,1)]\n",
    "parts_per_dir_space = parts_per_dir_array((2,2,2),3)\n",
    "methods_space = [\"psprse\",\"petsc_coo\"]\n",
    "param_space = Dict(\n",
    "    :nodes => 1,\n",
    "    :ntasks_per_node => Derived(:parts_per_dir,prod),\n",
    "    :np => Derived(:parts_per_dir,prod),\n",
    "    :method => methods_space,\n",
    "    :cells_per_dir => [(100,100,100)],\n",
    "    :parts_per_dir => parts_per_dir_space,\n",
    "    :nruns => 10,\n",
    "    :benchmark => :benchmark_psparse,\n",
    ")\n",
    "params = dict_list(param_space)\n",
    "for params in params\n",
    "    produce_or_load(params;filename) do params\n",
    "        pb.runjob(:cmd,params;filename)\n",
    "        Dict{String,Any}()\n",
    "    end\n",
    "end"
   ]
  },
  {
   "cell_type": "code",
   "execution_count": null,
   "id": "551ce8bc",
   "metadata": {},
   "outputs": [],
   "source": [
    "files = readdir(path)\n",
    "files = filter(f->occursin(\"_results\",f),files)\n",
    "dicts = map(f->load(joinpath(path,f)),files)\n",
    "dicts = filter(d->d[\"benchmark\"]=== :benchmark_psparse,dicts)\n",
    "df = DataFrame(dicts)\n",
    "df[!,:buildmat] = reduce_timing.(df[!,:buildmat])\n",
    "df[!,:rebuildmat] = reduce_timing.(df[!,:rebuildmat])\n",
    "sort!(df,[:method,:np])"
   ]
  },
  {
   "cell_type": "code",
   "execution_count": null,
   "id": "e0c10887",
   "metadata": {},
   "outputs": [],
   "source": [
    "cells_per_dir = (100,100,100)\n",
    "plt = plot(size=(400,300),xlabel=\"P\",ylabel=\"Wall time [s]\")\n",
    "for method in param_space[:method]\n",
    "    take_row(row) = row.method == method && row.cells_per_dir == cells_per_dir\n",
    "    df_filtered = filter(take_row,df)\n",
    "    sort!(df_filtered,[:np])\n",
    "    x = df_filtered[:,:np]\n",
    "    y = df_filtered[:,:buildmat]\n",
    "    plot!(x,y,label=method,markers=:auto)\n",
    "end\n",
    "plt"
   ]
  },
  {
   "cell_type": "code",
   "execution_count": null,
   "id": "ddad7f44",
   "metadata": {},
   "outputs": [],
   "source": []
  }
 ],
 "metadata": {
  "kernelspec": {
   "display_name": "Julia 1.10.0",
   "language": "julia",
   "name": "julia-1.10"
  },
  "language_info": {
   "file_extension": ".jl",
   "mimetype": "application/julia",
   "name": "julia",
   "version": "1.10.0"
  }
 },
 "nbformat": 4,
 "nbformat_minor": 5
}
